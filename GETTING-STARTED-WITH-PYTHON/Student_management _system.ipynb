{
 "cells": [
  {
   "cell_type": "markdown",
   "metadata": {},
   "source": [
    "### Problem Statement\n",
    "You have been hired by the University of Data Science to manage their students' records. Your job is to create the student management system for the university. Let's try to build the system using basic Python operations.\n",
    "\n",
    "### Outcomes\n",
    "After completing this project, you will get to know how to solve basic Python problems. In this project, you will be applying the following concepts:\n",
    "\n",
    "Mathematical operations\n",
    "List operations\n",
    "Dictionary operations\n",
    "String indexing and formatting"
   ]
  },
  {
   "cell_type": "code",
   "execution_count": 1,
   "metadata": {},
   "outputs": [
    {
     "name": "stdout",
     "output_type": "stream",
     "text": [
      "['Geoffrey Hinton', 'Andrew Ng', 'Sebastian Raschka', 'Yoshua Bengio', 'Hilary Mason', 'Carla Gentry', 'Corinna Cortes']\n",
      "['Geoffrey Hinton', 'Andrew Ng', 'Sebastian Raschka', 'Yoshua Bengio', 'Hilary Mason', 'Carla Gentry', 'Corinna Cortes', 'Peter Warden']\n",
      "['Geoffrey Hinton', 'Andrew Ng', 'Sebastian Raschka', 'Yoshua Bengio', 'Hilary Mason', 'Corinna Cortes', 'Peter Warden']\n",
      "dict_values([65, 70, 80, 70, 60])\n",
      "345\n",
      "69.0\n",
      "Andrew Ng\n",
      "NG ANDREW\n"
     ]
    }
   ],
   "source": [
    "# Code starts here\n",
    "class_1=['Geoffrey Hinton','Andrew Ng','Sebastian Raschka','Yoshua Bengio']\n",
    "class_2=['Hilary Mason','Carla Gentry','Corinna Cortes']\n",
    "new_class=class_1+class_2\n",
    "print(new_class)\n",
    "new_class.append('Peter Warden')\n",
    "print(new_class)\n",
    "new_class.remove('Carla Gentry')\n",
    "print(new_class)\n",
    "# Code ends here\n",
    "\n",
    "# Code starts here\n",
    "courses={'Math':65,'English':70,'History':80,'French':70,'Science':60}\n",
    "print(courses.values())\n",
    "total=sum(courses.values())\n",
    "print(total)\n",
    "percentage=total*100/500\n",
    "print(percentage)\n",
    "\n",
    "# Code ends here\n",
    "\n",
    "# Code starts here\n",
    "mathematics={'Geoffrey Hinton':78,'Andrew Ng':95,'Sebastian Raschka':65,'Yoshua Benjio':50,'Hilary Mason':70,'Corinna Cortes':66,'Peter Warden':75}\n",
    "topper=max(mathematics,key=mathematics.get)\n",
    "print(topper)\n",
    "\n",
    "# Code ends here \n",
    "\n",
    "# Given string\n",
    "topper = 'andrew ng'\n",
    "\n",
    "# Code starts here\n",
    "first_name=topper.split()[0]\n",
    "last_name=topper.split()[1]\n",
    "full_name =last_name+\" \"+first_name\n",
    "certificate_name=full_name.upper()\n",
    "print(certificate_name)\n",
    "# Code ends here\n",
    "\n"
   ]
  }
 ],
 "metadata": {
  "kernelspec": {
   "display_name": "Python 3",
   "language": "python",
   "name": "python3"
  },
  "language_info": {
   "codemirror_mode": {
    "name": "ipython",
    "version": 3
   },
   "file_extension": ".py",
   "mimetype": "text/x-python",
   "name": "python",
   "nbconvert_exporter": "python",
   "pygments_lexer": "ipython3",
   "version": "3.7.3"
  }
 },
 "nbformat": 4,
 "nbformat_minor": 4
}
